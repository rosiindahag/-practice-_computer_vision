{
  "nbformat": 4,
  "nbformat_minor": 0,
  "metadata": {
    "colab": {
      "provenance": [],
      "authorship_tag": "ABX9TyNFF/+6rjexz/usZ/vnkjJt"
    },
    "kernelspec": {
      "name": "python3",
      "display_name": "Python 3"
    },
    "language_info": {
      "name": "python"
    }
  },
  "cells": [
    {
      "cell_type": "code",
      "execution_count": null,
      "metadata": {
        "id": "t3YJ8kOpbWfq"
      },
      "outputs": [],
      "source": [
        "#ref : https://realpython.com/generative-adversarial-networks/ only for practical\n",
        "import torch\n",
        "from torch import nn\n",
        "\n",
        "import math\n",
        "import matplotlib.pyplot as plt"
      ]
    },
    {
      "cell_type": "code",
      "source": [
        "torch.manual_seed(111)"
      ],
      "metadata": {
        "colab": {
          "base_uri": "https://localhost:8080/"
        },
        "id": "wRVn5qTybZWS",
        "outputId": "ea99179e-e583-4db9-8bac-dd035464e7be"
      },
      "execution_count": null,
      "outputs": [
        {
          "output_type": "execute_result",
          "data": {
            "text/plain": [
              "<torch._C.Generator at 0x7f7084bb1e70>"
            ]
          },
          "metadata": {},
          "execution_count": 2
        }
      ]
    },
    {
      "cell_type": "code",
      "source": [
        "train_data_length = 1024\n",
        "train_data = torch.zeros((train_data_length, 2))\n",
        "train_data[:, 0] = 2 * math.pi * torch.rand(train_data_length)\n",
        "train_data[:, 1] = torch.sin(train_data[:, 0])\n",
        "train_labels = torch.zeros(train_data_length)\n",
        "train_set = [\n",
        "    (train_data[i], train_labels[i]) for i in range(train_data_length)\n",
        "]"
      ],
      "metadata": {
        "id": "zXm6oa3HbfBz"
      },
      "execution_count": null,
      "outputs": []
    },
    {
      "cell_type": "code",
      "source": [
        "plt.plot(train_data[:, 0], train_data[:, 1], \".\")"
      ],
      "metadata": {
        "colab": {
          "base_uri": "https://localhost:8080/",
          "height": 282
        },
        "id": "acSHneuVboJY",
        "outputId": "4512abe7-abef-47ea-c737-5765c11dbe33"
      },
      "execution_count": null,
      "outputs": [
        {
          "output_type": "execute_result",
          "data": {
            "text/plain": [
              "[<matplotlib.lines.Line2D at 0x7f708331a1c0>]"
            ]
          },
          "metadata": {},
          "execution_count": 4
        },
        {
          "output_type": "display_data",
          "data": {
            "text/plain": [
              "<Figure size 432x288 with 1 Axes>"
            ],
            "image/png": "[encoded data removed]"
          },
          "metadata": {
            "needs_background": "light"
          }
        }
      ]
    },
    {
      "cell_type": "code",
      "source": [
        "batch_size = 32\n",
        "train_loader = torch.utils.data.DataLoader(\n",
        "    train_set, batch_size=batch_size, shuffle=True\n",
        ")"
      ],
      "metadata": {
        "id": "HGwy16kkbvu9"
      },
      "execution_count": null,
      "outputs": []
    },
    {
      "cell_type": "code",
      "source": [
        "class Discriminator(nn.Module):\n",
        "    def __init__(self):\n",
        "        super().__init__()\n",
        "        self.model = nn.Sequential(\n",
        "            nn.Linear(2, 256),\n",
        "            nn.ReLU(),\n",
        "            nn.Dropout(0.3),\n",
        "            nn.Linear(256, 128),\n",
        "            nn.ReLU(),\n",
        "            nn.Dropout(0.3),\n",
        "            nn.Linear(128, 64),\n",
        "            nn.ReLU(),\n",
        "            nn.Dropout(0.3),\n",
        "            nn.Linear(64, 1),\n",
        "            nn.Sigmoid(),\n",
        "        )\n",
        "\n",
        "    def forward(self, x):\n",
        "        output = self.model(x)\n",
        "        return output"
      ],
      "metadata": {
        "id": "OYANV39WbyD5"
      },
      "execution_count": null,
      "outputs": []
    },
    {
      "cell_type": "code",
      "source": [
        "discriminator = Discriminator()"
      ],
      "metadata": {
        "id": "bVcvZB5_b1Da"
      },
      "execution_count": null,
      "outputs": []
    },
    {
      "cell_type": "code",
      "source": [
        "class Generator(nn.Module):\n",
        "    def __init__(self):\n",
        "        super().__init__()\n",
        "        self.model = nn.Sequential(\n",
        "            nn.Linear(2, 16),\n",
        "            nn.ReLU(),\n",
        "            nn.Linear(16, 32),\n",
        "            nn.ReLU(),\n",
        "            nn.Linear(32, 2),\n",
        "        )\n",
        "\n",
        "    def forward(self, x):\n",
        "        output = self.model(x)\n",
        "        return output\n",
        "\n",
        "generator = Generator()"
      ],
      "metadata": {
        "id": "gTs7ujFKb3hw"
      },
      "execution_count": null,
      "outputs": []
    },
    {
      "cell_type": "code",
      "source": [
        "lr = 0.001\n",
        "num_epochs = 300\n",
        "loss_function = nn.BCELoss()"
      ],
      "metadata": {
        "id": "MOXwJNQsb9tc"
      },
      "execution_count": null,
      "outputs": []
    },
    {
      "cell_type": "code",
      "source": [
        "optimizer_discriminator = torch.optim.Adam(discriminator.parameters(), lr=lr)\n",
        "optimizer_generator = torch.optim.Adam(generator.parameters(), lr=lr)"
      ],
      "metadata": {
        "id": "QBSUf9_pcBH2"
      },
      "execution_count": null,
      "outputs": []
    },
    {
      "cell_type": "code",
      "source": [
        "for epoch in range(num_epochs):\n",
        "    for n, (real_samples, _) in enumerate(train_loader):\n",
        "        # Data for training the discriminator\n",
        "        real_samples_labels = torch.ones((batch_size, 1))\n",
        "        latent_space_samples = torch.randn((batch_size, 2))\n",
        "        generated_samples = generator(latent_space_samples)\n",
        "        generated_samples_labels = torch.zeros((batch_size, 1))\n",
        "        all_samples = torch.cat((real_samples, generated_samples))\n",
        "        all_samples_labels = torch.cat(\n",
        "            (real_samples_labels, generated_samples_labels)\n",
        "        )\n",
        "\n",
        "        # Training the discriminator\n",
        "        discriminator.zero_grad()\n",
        "        output_discriminator = discriminator(all_samples)\n",
        "        loss_discriminator = loss_function(\n",
        "            output_discriminator, all_samples_labels)\n",
        "        loss_discriminator.backward()\n",
        "        optimizer_discriminator.step()\n",
        "\n",
        "        # Data for training the generator\n",
        "        latent_space_samples = torch.randn((batch_size, 2))\n",
        "\n",
        "        # Training the generator\n",
        "        generator.zero_grad()\n",
        "        generated_samples = generator(latent_space_samples)\n",
        "        output_discriminator_generated = discriminator(generated_samples)\n",
        "        loss_generator = loss_function(\n",
        "            output_discriminator_generated, real_samples_labels\n",
        "        )\n",
        "        loss_generator.backward()\n",
        "        optimizer_generator.step()\n",
        "\n",
        "        # Show loss\n",
        "        if epoch % 10 == 0 and n == batch_size - 1:\n",
        "            print(f\"Epoch: {epoch} Loss D.: {loss_discriminator}\")\n",
        "            print(f\"Epoch: {epoch} Loss G.: {loss_generator}\")"
      ],
      "metadata": {
        "colab": {
          "base_uri": "https://localhost:8080/"
        },
        "id": "GKo-tr-ecDTt",
        "outputId": "44d2142b-7df2-4c89-b779-b6c25cf7d3a4"
      },
      "execution_count": null,
      "outputs": [
        {
          "output_type": "stream",
          "name": "stdout",
          "text": [
            "Epoch: 0 Loss D.: 0.21308739483356476\n",
            "Epoch: 0 Loss G.: 1.7989580631256104\n",
            "Epoch: 10 Loss D.: 0.6099680662155151\n",
            "Epoch: 10 Loss G.: 0.907738447189331\n",
            "Epoch: 20 Loss D.: 0.6200630068778992\n",
            "Epoch: 20 Loss G.: 0.953209638595581\n",
            "Epoch: 30 Loss D.: 0.6275914907455444\n",
            "Epoch: 30 Loss G.: 0.9946513175964355\n",
            "Epoch: 40 Loss D.: 0.6227079033851624\n",
            "Epoch: 40 Loss G.: 0.8192576169967651\n",
            "Epoch: 50 Loss D.: 0.6241480708122253\n",
            "Epoch: 50 Loss G.: 0.7858664393424988\n",
            "Epoch: 60 Loss D.: 0.6772599220275879\n",
            "Epoch: 60 Loss G.: 0.8656211495399475\n",
            "Epoch: 70 Loss D.: 0.6495099067687988\n",
            "Epoch: 70 Loss G.: 0.8636514544487\n",
            "Epoch: 80 Loss D.: 0.6964038610458374\n",
            "Epoch: 80 Loss G.: 0.5955417156219482\n",
            "Epoch: 90 Loss D.: 0.686946451663971\n",
            "Epoch: 90 Loss G.: 0.6368476748466492\n",
            "Epoch: 100 Loss D.: 0.6943280100822449\n",
            "Epoch: 100 Loss G.: 0.6687246561050415\n",
            "Epoch: 110 Loss D.: 0.6754927039146423\n",
            "Epoch: 110 Loss G.: 0.749114990234375\n",
            "Epoch: 120 Loss D.: 0.6884811520576477\n",
            "Epoch: 120 Loss G.: 0.689706563949585\n",
            "Epoch: 130 Loss D.: 0.641776442527771\n",
            "Epoch: 130 Loss G.: 0.8063989281654358\n",
            "Epoch: 140 Loss D.: 0.6504501104354858\n",
            "Epoch: 140 Loss G.: 0.7574013471603394\n",
            "Epoch: 150 Loss D.: 0.7102599740028381\n",
            "Epoch: 150 Loss G.: 0.7402819991111755\n",
            "Epoch: 160 Loss D.: 0.6604013442993164\n",
            "Epoch: 160 Loss G.: 0.7084264755249023\n",
            "Epoch: 170 Loss D.: 0.7261087894439697\n",
            "Epoch: 170 Loss G.: 0.7021260261535645\n",
            "Epoch: 180 Loss D.: 0.7567050457000732\n",
            "Epoch: 180 Loss G.: 0.6918441653251648\n",
            "Epoch: 190 Loss D.: 0.7455794215202332\n",
            "Epoch: 190 Loss G.: 0.6501014232635498\n",
            "Epoch: 200 Loss D.: 0.6603354215621948\n",
            "Epoch: 200 Loss G.: 0.8121433854103088\n",
            "Epoch: 210 Loss D.: 0.6535176038742065\n",
            "Epoch: 210 Loss G.: 0.9842185974121094\n",
            "Epoch: 220 Loss D.: 0.5889321565628052\n",
            "Epoch: 220 Loss G.: 1.0907148122787476\n",
            "Epoch: 230 Loss D.: 0.6351495981216431\n",
            "Epoch: 230 Loss G.: 0.8044208884239197\n",
            "Epoch: 240 Loss D.: 0.7255829572677612\n",
            "Epoch: 240 Loss G.: 0.772279679775238\n",
            "Epoch: 250 Loss D.: 0.6087005138397217\n",
            "Epoch: 250 Loss G.: 0.9070661067962646\n",
            "Epoch: 260 Loss D.: 0.7104141116142273\n",
            "Epoch: 260 Loss G.: 0.6697196960449219\n",
            "Epoch: 270 Loss D.: 0.6023695468902588\n",
            "Epoch: 270 Loss G.: 0.8814617395401001\n",
            "Epoch: 280 Loss D.: 0.5747082233428955\n",
            "Epoch: 280 Loss G.: 0.9660135507583618\n",
            "Epoch: 290 Loss D.: 0.6584592461585999\n",
            "Epoch: 290 Loss G.: 0.679040789604187\n"
          ]
        }
      ]
    },
    {
      "cell_type": "code",
      "source": [
        "latent_space_samples = torch.randn(100, 2)\n",
        "generated_samples = generator(latent_space_samples)"
      ],
      "metadata": {
        "id": "RdfruNpxcGrt"
      },
      "execution_count": null,
      "outputs": []
    },
    {
      "cell_type": "code",
      "source": [
        "generated_samples = generated_samples.detach()\n",
        "plt.plot(generated_samples[:, 0], generated_samples[:, 1], \".\")"
      ],
      "metadata": {
        "colab": {
          "base_uri": "https://localhost:8080/",
          "height": 282
        },
        "id": "cCCawAiicbB-",
        "outputId": "6fb5d3a6-273a-4aa7-c273-aa4bd6d98bb9"
      },
      "execution_count": null,
      "outputs": [
        {
          "output_type": "execute_result",
          "data": {
            "text/plain": [
              "[<matplotlib.lines.Line2D at 0x7f7082e420d0>]"
            ]
          },
          "metadata": {},
          "execution_count": 13
        },
        {
          "output_type": "display_data",
          "data": {
            "text/plain": [
              "<Figure size 432x288 with 1 Axes>"
            ],
            "image/png": "[encoded data removed]"
          },
          "metadata": {
            "needs_background": "light"
          }
        }
      ]
    },
    {
      "cell_type": "code",
      "source": [
        "plt.plot(generated_samples[:, 0], generated_samples[:, 1], \".\")"
      ],
      "metadata": {
        "colab": {
          "base_uri": "https://localhost:8080/",
          "height": 282
        },
        "id": "1TcRiAvZcdp_",
        "outputId": "0e04c402-065e-401a-bc9e-c29ef1cda7ce"
      },
      "execution_count": null,
      "outputs": [
        {
          "output_type": "execute_result",
          "data": {
            "text/plain": [
              "[<matplotlib.lines.Line2D at 0x7f7082c2fb80>]"
            ]
          },
          "metadata": {},
          "execution_count": 18
        },
        {
          "output_type": "display_data",
          "data": {
            "text/plain": [
              "<Figure size 432x288 with 1 Axes>"
            ],
            "image/png": "[encoded data removed]"
          },
          "metadata": {
            "needs_background": "light"
          }
        }
      ]
    }
  ]
}